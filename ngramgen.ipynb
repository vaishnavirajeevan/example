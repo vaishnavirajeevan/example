{
  "nbformat": 4,
  "nbformat_minor": 0,
  "metadata": {
    "colab": {
      "name": "ngramgen",
      "version": "0.3.2",
      "provenance": [],
      "collapsed_sections": [],
      "include_colab_link": true
    },
    "kernelspec": {
      "name": "python3",
      "display_name": "Python 3"
    }
  },
  "cells": [
    {
      "cell_type": "markdown",
      "metadata": {
        "id": "view-in-github",
        "colab_type": "text"
      },
      "source": [
        "<a href=\"https://colab.research.google.com/github/vaishnavirajeevan/example/blob/master/ngramgen.ipynb\" target=\"_parent\"><img src=\"https://colab.research.google.com/assets/colab-badge.svg\" alt=\"Open In Colab\"/></a>"
      ]
    },
    {
      "cell_type": "code",
      "metadata": {
        "id": "bXpXrjJyMWFe",
        "colab_type": "code",
        "outputId": "ed5e73e8-4183-4093-fd80-0d9957446a08",
        "colab": {
          "base_uri": "https://localhost:8080/",
          "height": 34
        }
      },
      "source": [
        "s=\"I am going for dinner. how are you. It is nice. I am going to Kollam\"\n",
        "s\n"
      ],
      "execution_count": 2,
      "outputs": [
        {
          "output_type": "execute_result",
          "data": {
            "text/plain": [
              "'I am going for dinner. how are you. It is nice. I am going to Kollam'"
            ]
          },
          "metadata": {
            "tags": []
          },
          "execution_count": 2
        }
      ]
    },
    {
      "cell_type": "code",
      "metadata": {
        "id": "rKJm0yQfrHzc",
        "colab_type": "code",
        "colab": {}
      },
      "source": [
        ""
      ],
      "execution_count": 0,
      "outputs": []
    },
    {
      "cell_type": "code",
      "metadata": {
        "id": "tBTMtgVvT6_P",
        "colab_type": "code",
        "colab": {}
      },
      "source": [
        "import re\n",
        "\n",
        "def ngram_gen(s, n):\n",
        "    s = s.lower()\n",
        "    s = re.sub(r'[^a-zA-Z0-9\\s]', ' ', s)\n",
        "    tokens = [token for token in s.split(\" \") if token != \"\"]\n",
        "    ngrams = zip(*[tokens[i:] for i in range(n)])\n",
        "    return [\" \".join(ngram) for ngram in ngrams]\n",
        "  \n"
      ],
      "execution_count": 0,
      "outputs": []
    },
    {
      "cell_type": "markdown",
      "metadata": {
        "id": "a6e0-CJaFd3h",
        "colab_type": "text"
      },
      "source": [
        "function to generate n-grams"
      ]
    },
    {
      "cell_type": "code",
      "metadata": {
        "id": "w7trOdR5UXsF",
        "colab_type": "code",
        "outputId": "4b5d019c-b6de-4a8d-d52c-194730cacc4a",
        "colab": {
          "base_uri": "https://localhost:8080/",
          "height": 221
        }
      },
      "source": [
        "am=ngram_gen(s, n=5)\n",
        "am"
      ],
      "execution_count": 3,
      "outputs": [
        {
          "output_type": "execute_result",
          "data": {
            "text/plain": [
              "['i am going for dinner',\n",
              " 'am going for dinner how',\n",
              " 'going for dinner how are',\n",
              " 'for dinner how are you',\n",
              " 'dinner how are you it',\n",
              " 'how are you it is',\n",
              " 'are you it is nice',\n",
              " 'you it is nice i',\n",
              " 'it is nice i am',\n",
              " 'is nice i am going',\n",
              " 'nice i am going to',\n",
              " 'i am going to kollam']"
            ]
          },
          "metadata": {
            "tags": []
          },
          "execution_count": 3
        }
      ]
    },
    {
      "cell_type": "code",
      "metadata": {
        "id": "uEmT4FiyUmZx",
        "colab_type": "code",
        "outputId": "c19056c0-3ad4-49d5-8915-927c70ca4281",
        "colab": {
          "base_uri": "https://localhost:8080/",
          "height": 34
        }
      },
      "source": [
        "r= \"i am happy for having dinner.i am lekshmi.i am from kollam.how are you.it is nice happy to see you again\"\n",
        "r\n"
      ],
      "execution_count": 4,
      "outputs": [
        {
          "output_type": "execute_result",
          "data": {
            "text/plain": [
              "'i am happy for having dinner.i am lekshmi.i am from kollam.how are you.it is nice happy to see you again'"
            ]
          },
          "metadata": {
            "tags": []
          },
          "execution_count": 4
        }
      ]
    },
    {
      "cell_type": "code",
      "metadata": {
        "id": "aNOjhO4EUzVM",
        "colab_type": "code",
        "colab": {}
      },
      "source": [
        "import re\n",
        "\n",
        "def ngram_gen(s, n):\n",
        "    s = s.lower()\n",
        "    s = re.sub(r'[^a-zA-Z0-9\\s]', ' ', s)\n",
        "    tokens = [token for token in s.split(\" \") if token != \"\"]\n",
        "    ngrams = zip(*[tokens[i:] for i in range(n)])\n",
        "    return [\" \".join(ngram) for ngram in ngrams]\n",
        "  \n",
        "\n",
        "  "
      ],
      "execution_count": 0,
      "outputs": []
    },
    {
      "cell_type": "code",
      "metadata": {
        "id": "aL2czfaAU6of",
        "colab_type": "code",
        "outputId": "54b98824-3f7f-4715-c216-50d8998b569d",
        "colab": {
          "base_uri": "https://localhost:8080/",
          "height": 357
        }
      },
      "source": [
        "bm= ngram_gen(r, n=5)\n",
        "bm"
      ],
      "execution_count": 5,
      "outputs": [
        {
          "output_type": "execute_result",
          "data": {
            "text/plain": [
              "['i am happy for having',\n",
              " 'am happy for having dinner',\n",
              " 'happy for having dinner i',\n",
              " 'for having dinner i am',\n",
              " 'having dinner i am lekshmi',\n",
              " 'dinner i am lekshmi i',\n",
              " 'i am lekshmi i am',\n",
              " 'am lekshmi i am from',\n",
              " 'lekshmi i am from kollam',\n",
              " 'i am from kollam how',\n",
              " 'am from kollam how are',\n",
              " 'from kollam how are you',\n",
              " 'kollam how are you it',\n",
              " 'how are you it is',\n",
              " 'are you it is nice',\n",
              " 'you it is nice happy',\n",
              " 'it is nice happy to',\n",
              " 'is nice happy to see',\n",
              " 'nice happy to see you',\n",
              " 'happy to see you again']"
            ]
          },
          "metadata": {
            "tags": []
          },
          "execution_count": 5
        }
      ]
    },
    {
      "cell_type": "code",
      "metadata": {
        "id": "-yvHYLNIVLml",
        "colab_type": "code",
        "outputId": "ae83e190-9397-411a-a487-5deeddd8062e",
        "colab": {
          "base_uri": "https://localhost:8080/",
          "height": 238
        }
      },
      "source": [
        "j=0\n",
        "cnt=[0,0,0,0,0,0,0,0,0,0,0,0,0,0,0,0,0,0,0,0,0,0]\n",
        "for i in am:\n",
        "  c=bm.count(i)\n",
        "  print(i,c)\n",
        "  cnt[j]=c\n",
        "  j=j+1\n",
        "print(cnt)"
      ],
      "execution_count": 0,
      "outputs": [
        {
          "output_type": "stream",
          "text": [
            "i am going for dinner 0\n",
            "am going for dinner how 0\n",
            "going for dinner how are 0\n",
            "for dinner how are you 0\n",
            "dinner how are you it 0\n",
            "how are you it is 1\n",
            "are you it is nice 1\n",
            "you it is nice i 0\n",
            "it is nice i am 0\n",
            "is nice i am going 0\n",
            "nice i am going to 0\n",
            "i am going to kollam 0\n",
            "[0, 0, 0, 0, 0, 1, 1, 0, 0, 0, 0, 0, 0, 0, 0, 0, 0, 0, 0, 0, 0, 0]\n"
          ],
          "name": "stdout"
        }
      ]
    },
    {
      "cell_type": "code",
      "metadata": {
        "id": "Ykm_Vl9QVtty",
        "colab_type": "code",
        "outputId": "f85367fe-8bb2-480d-f920-c5f1492b8fb5",
        "colab": {
          "base_uri": "https://localhost:8080/",
          "height": 54
        }
      },
      "source": [
        "f=open(\"new1.txt\", \"r\")\n",
        "con =f.read()\n",
        "con"
      ],
      "execution_count": 0,
      "outputs": [
        {
          "output_type": "execute_result",
          "data": {
            "text/plain": [
              "'\"i am happy for having dinner.i am lekshmi.i am from kollam.how are you.it is nice happy to see you again\"'"
            ]
          },
          "metadata": {
            "tags": []
          },
          "execution_count": 89
        }
      ]
    },
    {
      "cell_type": "code",
      "metadata": {
        "id": "eSsA2P0RXjKu",
        "colab_type": "code",
        "outputId": "010c7e0a-5c25-4997-d1b6-c9e71ff59db4",
        "colab": {
          "base_uri": "https://localhost:8080/",
          "height": 357
        }
      },
      "source": [
        "cm=generate_ngrams(con, n=5)\n",
        "cm"
      ],
      "execution_count": 0,
      "outputs": [
        {
          "output_type": "execute_result",
          "data": {
            "text/plain": [
              "['i am happy for having',\n",
              " 'am happy for having dinner',\n",
              " 'happy for having dinner i',\n",
              " 'for having dinner i am',\n",
              " 'having dinner i am lekshmi',\n",
              " 'dinner i am lekshmi i',\n",
              " 'i am lekshmi i am',\n",
              " 'am lekshmi i am from',\n",
              " 'lekshmi i am from kollam',\n",
              " 'i am from kollam how',\n",
              " 'am from kollam how are',\n",
              " 'from kollam how are you',\n",
              " 'kollam how are you it',\n",
              " 'how are you it is',\n",
              " 'are you it is nice',\n",
              " 'you it is nice happy',\n",
              " 'it is nice happy to',\n",
              " 'is nice happy to see',\n",
              " 'nice happy to see you',\n",
              " 'happy to see you again']"
            ]
          },
          "metadata": {
            "tags": []
          },
          "execution_count": 90
        }
      ]
    },
    {
      "cell_type": "code",
      "metadata": {
        "id": "2aGAkiCgFVas",
        "colab_type": "code",
        "colab": {}
      },
      "source": [
        ""
      ],
      "execution_count": 0,
      "outputs": []
    }
  ]
}